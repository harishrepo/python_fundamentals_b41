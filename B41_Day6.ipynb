{
 "cells": [
  {
   "cell_type": "code",
   "execution_count": null,
   "metadata": {},
   "outputs": [],
   "source": [
    "##continuation with lists:\n"
   ]
  },
  {
   "cell_type": "code",
   "execution_count": 1,
   "metadata": {},
   "outputs": [
    {
     "data": {
      "text/plain": [
       "list"
      ]
     },
     "execution_count": 1,
     "metadata": {},
     "output_type": "execute_result"
    }
   ],
   "source": [
    "students = [\"ram\",\"loki\",\"din\",\"anit\",\"khan\"]\n",
    "type(students)"
   ]
  },
  {
   "cell_type": "code",
   "execution_count": 4,
   "metadata": {},
   "outputs": [
    {
     "name": "stdout",
     "output_type": "stream",
     "text": [
      "welcome for reglar sessions, ram\n",
      "welcome for reglar sessions, ['ram', 'loki', 'din']\n"
     ]
    }
   ],
   "source": [
    "#appreciate students\n",
    "print(f\"welcome for reglar sessions, {students[0]}\")\n",
    "print(f\"welcome for reglar sessions, {students[0:3]}\")"
   ]
  },
  {
   "cell_type": "code",
   "execution_count": 8,
   "metadata": {},
   "outputs": [],
   "source": [
    "#intro for loops: for loop syntax\n",
    "# for tempVar in mainVar:\n",
    "#     print(tempVar)"
   ]
  },
  {
   "cell_type": "code",
   "execution_count": 16,
   "metadata": {},
   "outputs": [
    {
     "name": "stdout",
     "output_type": "stream",
     "text": [
      " keep up good work, Ram.\n",
      "\n",
      " keep up good work, Loki.\n",
      "\n",
      " keep up good work, Din.\n",
      "\n",
      " keep up good work, Anit.\n",
      "\n",
      " keep up good work, Khan.\n",
      "\n"
     ]
    }
   ],
   "source": [
    "for i in students:\n",
    "    print(f\" keep up good work, {i.title()}.\\n\") ## wriitng in loop\n",
    "    "
   ]
  },
  {
   "cell_type": "code",
   "execution_count": 17,
   "metadata": {},
   "outputs": [
    {
     "name": "stdout",
     "output_type": "stream",
     "text": [
      " keep up good work, Ram.\n",
      "\n",
      " keep up good work, Loki.\n",
      "\n",
      " keep up good work, Din.\n",
      "\n",
      " keep up good work, Anit.\n",
      "\n",
      " keep up good work, Khan.\n",
      "\n",
      "thanks to all for joining the session\n"
     ]
    }
   ],
   "source": [
    "for i in students:\n",
    "    print(f\" keep up good work, {i.title()}.\\n\") ## wriitng out of loop\n",
    "\n",
    "print(\"thanks to all for joining the session\")"
   ]
  },
  {
   "cell_type": "code",
   "execution_count": 18,
   "metadata": {},
   "outputs": [
    {
     "name": "stdout",
     "output_type": "stream",
     "text": [
      "[0, 1, 2, 3, 4, 5, 6, 7, 8, 9, 10, 11, 12, 13, 14, 15, 16, 17, 18, 19]\n"
     ]
    }
   ],
   "source": [
    "#implementaion of range function\n",
    "numbers = list(range(0,20))\n",
    "print(numbers)"
   ]
  },
  {
   "cell_type": "code",
   "execution_count": 23,
   "metadata": {},
   "outputs": [
    {
     "name": "stdout",
     "output_type": "stream",
     "text": [
      "0\n",
      "1\n",
      "2\n",
      "3\n",
      "4\n",
      "5\n",
      "6\n",
      "7\n",
      "8\n",
      "9\n"
     ]
    }
   ],
   "source": [
    "for i in range(0,10):\n",
    "    print(i)"
   ]
  },
  {
   "cell_type": "code",
   "execution_count": 24,
   "metadata": {},
   "outputs": [
    {
     "name": "stdout",
     "output_type": "stream",
     "text": [
      "[2, 4, 6, 8, 10, 12, 14, 16, 18, 20, 22, 24, 26, 28, 30]\n"
     ]
    }
   ],
   "source": [
    "#print even numebr till 30\n",
    "\n",
    "even_num = list(range(2,31,2))\n",
    "print(even_num)"
   ]
  },
  {
   "cell_type": "code",
   "execution_count": 25,
   "metadata": {},
   "outputs": [
    {
     "name": "stdout",
     "output_type": "stream",
     "text": [
      " even numbers are, 2\n",
      " even numbers are, 4\n",
      " even numbers are, 6\n",
      " even numbers are, 8\n",
      " even numbers are, 10\n",
      " even numbers are, 12\n",
      " even numbers are, 14\n",
      " even numbers are, 16\n",
      " even numbers are, 18\n",
      " even numbers are, 20\n",
      " even numbers are, 22\n",
      " even numbers are, 24\n",
      " even numbers are, 26\n",
      " even numbers are, 28\n",
      " even numbers are, 30\n"
     ]
    }
   ],
   "source": [
    "even_num1 = list(range(2,31))\n",
    "for i in even_num1:\n",
    "    if i % 2 ==0:\n",
    "        print(f\" even numbers are, {i}\")"
   ]
  },
  {
   "cell_type": "code",
   "execution_count": null,
   "metadata": {},
   "outputs": [],
   "source": []
  }
 ],
 "metadata": {
  "kernelspec": {
   "display_name": "Python 3",
   "language": "python",
   "name": "python3"
  },
  "language_info": {
   "codemirror_mode": {
    "name": "ipython",
    "version": 3
   },
   "file_extension": ".py",
   "mimetype": "text/x-python",
   "name": "python",
   "nbconvert_exporter": "python",
   "pygments_lexer": "ipython3",
   "version": "3.7.6"
  }
 },
 "nbformat": 4,
 "nbformat_minor": 4
}
