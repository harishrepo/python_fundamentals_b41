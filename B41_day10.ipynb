{
 "cells": [
  {
   "cell_type": "code",
   "execution_count": 1,
   "metadata": {},
   "outputs": [],
   "source": [
    "#intro to functions\n",
    "\n",
    "#reusability of code"
   ]
  },
  {
   "cell_type": "code",
   "execution_count": 2,
   "metadata": {},
   "outputs": [
    {
     "name": "stdout",
     "output_type": "stream",
     "text": [
      "hello\n"
     ]
    }
   ],
   "source": [
    "def test(): ##name ofthe func\n",
    "    print(\"hello\") ## logic\n",
    "test() ## cal function"
   ]
  },
  {
   "cell_type": "code",
   "execution_count": 3,
   "metadata": {},
   "outputs": [
    {
     "name": "stdout",
     "output_type": "stream",
     "text": [
      "hello harish\n"
     ]
    }
   ],
   "source": [
    "#enhancement of the code\n",
    "def greetuser(name):\n",
    "    print(f\"hello {name}\")\n",
    "greetuser(\"harish\") ##argumnets passing"
   ]
  },
  {
   "cell_type": "code",
   "execution_count": 4,
   "metadata": {},
   "outputs": [
    {
     "name": "stdout",
     "output_type": "stream",
     "text": [
      "i have animaltype dog and name is jijo\n"
     ]
    }
   ],
   "source": [
    "##types of argument\n",
    "##passing 2 params\n",
    "##need to pass the args in exact postions define in function\n",
    "\n",
    "def describepet(animaltype,petname):\n",
    "    print(f\"i have animaltype {animaltype} and name is {petname}\")\n",
    "describepet(\"dog\",\"jijo\")\n",
    "    "
   ]
  },
  {
   "cell_type": "code",
   "execution_count": 6,
   "metadata": {},
   "outputs": [
    {
     "name": "stdout",
     "output_type": "stream",
     "text": [
      "i have 320 and cartype is bmw\n"
     ]
    }
   ],
   "source": [
    "#keyword args\n",
    "def describecar(cartype=\"bmw\",model=\"320\"):\n",
    "    print(f\"i have {model} and cartype is {cartype}\")\n",
    "describecar()"
   ]
  },
  {
   "cell_type": "code",
   "execution_count": 7,
   "metadata": {},
   "outputs": [
    {
     "name": "stdout",
     "output_type": "stream",
     "text": [
      " my animaltype is dog and name is drag\n"
     ]
    }
   ],
   "source": [
    "#default args need to kept at the last\n",
    "def pets(animal,animaltype=\"dog\"):\n",
    "    print(f\" my animaltype is {animaltype} and name is {animal}\")\n",
    "pets(\"drag\")\n"
   ]
  },
  {
   "cell_type": "code",
   "execution_count": 8,
   "metadata": {},
   "outputs": [
    {
     "name": "stdout",
     "output_type": "stream",
     "text": [
      " my animaltype is bird and name is dry\n"
     ]
    }
   ],
   "source": [
    "pets(\"dry\",'bird')"
   ]
  },
  {
   "cell_type": "code",
   "execution_count": null,
   "metadata": {},
   "outputs": [],
   "source": []
  }
 ],
 "metadata": {
  "kernelspec": {
   "display_name": "Python 3",
   "language": "python",
   "name": "python3"
  },
  "language_info": {
   "codemirror_mode": {
    "name": "ipython",
    "version": 3
   },
   "file_extension": ".py",
   "mimetype": "text/x-python",
   "name": "python",
   "nbconvert_exporter": "python",
   "pygments_lexer": "ipython3",
   "version": "3.7.6"
  }
 },
 "nbformat": 4,
 "nbformat_minor": 4
}
