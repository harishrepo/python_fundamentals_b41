{
 "cells": [
  {
   "cell_type": "code",
   "execution_count": 1,
   "metadata": {},
   "outputs": [],
   "source": [
    "#intro to constructor\n",
    "# also called as magic or special method\n",
    "# used to intialize kethods or attributes automatically\n",
    "\n",
    "# how to construct: __init__() called as init method\n",
    "\n",
    " "
   ]
  },
  {
   "cell_type": "code",
   "execution_count": 2,
   "metadata": {},
   "outputs": [
    {
     "ename": "SyntaxError",
     "evalue": "invalid syntax (<ipython-input-2-bd914cf9f7a2>, line 3)",
     "output_type": "error",
     "traceback": [
      "\u001b[0;36m  File \u001b[0;32m\"<ipython-input-2-bd914cf9f7a2>\"\u001b[0;36m, line \u001b[0;32m3\u001b[0m\n\u001b[0;31m    1. create a const which accepts name and age of dog\u001b[0m\n\u001b[0m            ^\u001b[0m\n\u001b[0;31mSyntaxError\u001b[0m\u001b[0;31m:\u001b[0m invalid syntax\n"
     ]
    }
   ],
   "source": [
    "# requiremnst\n",
    "# create a dog clas and create below methods for it\n",
    "1. create a const which accepts name and age of dog\n",
    "methods : sit, jump, rollover sleep details"
   ]
  },
  {
   "cell_type": "code",
   "execution_count": 7,
   "metadata": {},
   "outputs": [],
   "source": [
    "class Dog:\n",
    "    \n",
    "    \n",
    "    def __init__(self, name, age, breed):\n",
    "        self.name = name\n",
    "        self.age = age\n",
    "        self.breed = breed\n",
    "        \n",
    "    def sit(self):\n",
    "        print(f\"{self.name} is sitting on the couch\")\n",
    "    \n",
    "    def jump(self):\n",
    "        print(f\"{self.name} is jumping  on the couch\")\n",
    "    \n",
    "    def rollover(self):\n",
    "        print(f\"{self.name} is rolling  on the floor\")\n",
    "    \n",
    "    def details(self):\n",
    "        print(f\" the name of the dog is {self.name}\")\n",
    "        print(f\"the name of the dog is {self.name} and age is {self.age} which has breed of '{self.breed}'\")\n",
    "        "
   ]
  },
  {
   "cell_type": "code",
   "execution_count": 8,
   "metadata": {},
   "outputs": [
    {
     "name": "stdout",
     "output_type": "stream",
     "text": [
      "tom is sitting on the couch\n",
      "tom is jumping  on the couch\n",
      "tom is rolling  on the floor\n",
      " the name of the dog is tom\n",
      "the name of the dog is tom and age is 13 which has breed of 'labrador'\n"
     ]
    }
   ],
   "source": [
    "# assignment of the object\n",
    "x = Dog(\"tom\",13,'labrador')\n",
    "\n",
    "x.sit()\n",
    "x.jump()\n",
    "x.rollover()\n",
    "x.details()"
   ]
  },
  {
   "cell_type": "code",
   "execution_count": null,
   "metadata": {},
   "outputs": [],
   "source": [
    "# intro file handling in python\n"
   ]
  }
 ],
 "metadata": {
  "kernelspec": {
   "display_name": "Python 3",
   "language": "python",
   "name": "python3"
  },
  "language_info": {
   "codemirror_mode": {
    "name": "ipython",
    "version": 3
   },
   "file_extension": ".py",
   "mimetype": "text/x-python",
   "name": "python",
   "nbconvert_exporter": "python",
   "pygments_lexer": "ipython3",
   "version": "3.7.6"
  }
 },
 "nbformat": 4,
 "nbformat_minor": 4
}
