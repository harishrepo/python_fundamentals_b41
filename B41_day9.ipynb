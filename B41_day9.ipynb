{
 "cells": [
  {
   "cell_type": "code",
   "execution_count": 1,
   "metadata": {},
   "outputs": [],
   "source": [
    "##introduction to while loops"
   ]
  },
  {
   "cell_type": "code",
   "execution_count": 2,
   "metadata": {},
   "outputs": [
    {
     "name": "stdout",
     "output_type": "stream",
     "text": [
      "1\n",
      "2\n",
      "3\n",
      "4\n",
      "5\n"
     ]
    }
   ],
   "source": [
    "cn =1\n",
    "while cn <=5:\n",
    "    print(cn)\n",
    "    cn +=1"
   ]
  },
  {
   "cell_type": "code",
   "execution_count": 4,
   "metadata": {},
   "outputs": [
    {
     "name": "stdout",
     "output_type": "stream",
     "text": [
      "tata\n",
      "kia\n",
      "bmw\n",
      "merc\n",
      "toyota\n"
     ]
    }
   ],
   "source": [
    "cars = [\"tata\",\"kia\",\"bmw\",\"merc\",\"toyota\"]\n",
    "x = len(cars)\n",
    "y = 0\n",
    "while y < x:\n",
    "    print(cars[y])\n",
    "    y +=1"
   ]
  },
  {
   "cell_type": "code",
   "execution_count": null,
   "metadata": {},
   "outputs": [],
   "source": [
    "message = input(\"hello! what is your name?\")\n",
    "print(message)"
   ]
  },
  {
   "cell_type": "code",
   "execution_count": 2,
   "metadata": {},
   "outputs": [
    {
     "name": "stdout",
     "output_type": "stream",
     "text": [
      "pls enter your name:harish\n",
      "\n",
      "hello, harish\n"
     ]
    }
   ],
   "source": [
    "name = input(\"pls enter your name:\")\n",
    "print(f\"\\nhello, {name}\")"
   ]
  },
  {
   "cell_type": "code",
   "execution_count": 7,
   "metadata": {},
   "outputs": [
    {
     "name": "stdout",
     "output_type": "stream",
     "text": [
      "what is your name: harish\n",
      "hello, harish!\n"
     ]
    }
   ],
   "source": [
    "prompt = 'what is your name: '\n",
    "name = input(prompt)\n",
    "print(f\"hello, {name}!\")"
   ]
  },
  {
   "cell_type": "code",
   "execution_count": 10,
   "metadata": {},
   "outputs": [
    {
     "name": "stdout",
     "output_type": "stream",
     "text": [
      "how old are you?25\n"
     ]
    },
    {
     "data": {
      "text/plain": [
       "25"
      ]
     },
     "execution_count": 10,
     "metadata": {},
     "output_type": "execute_result"
    }
   ],
   "source": [
    "age = int(input(\"how old are you?\"))\n",
    "age\n"
   ]
  },
  {
   "cell_type": "code",
   "execution_count": 11,
   "metadata": {},
   "outputs": [
    {
     "data": {
      "text/plain": [
       "int"
      ]
     },
     "execution_count": 11,
     "metadata": {},
     "output_type": "execute_result"
    }
   ],
   "source": [
    "type(age)"
   ]
  },
  {
   "cell_type": "code",
   "execution_count": 13,
   "metadata": {},
   "outputs": [
    {
     "data": {
      "text/plain": [
       "True"
      ]
     },
     "execution_count": 13,
     "metadata": {},
     "output_type": "execute_result"
    }
   ],
   "source": [
    "age >=18"
   ]
  },
  {
   "cell_type": "code",
   "execution_count": 14,
   "metadata": {},
   "outputs": [],
   "source": [
    "### type casting"
   ]
  },
  {
   "cell_type": "code",
   "execution_count": 19,
   "metadata": {},
   "outputs": [
    {
     "name": "stdout",
     "output_type": "stream",
     "text": [
      "hello what is your nameharish\n",
      "please mention your age12\n",
      "hi harish , you are 12 years and not eligble to vote\n"
     ]
    }
   ],
   "source": [
    "#build voting app\n",
    "name = str(input(\"hello what is your name\"))\n",
    "age = int(input(\"please mention your age\"))\n",
    "if age >= 18:\n",
    "    print(f\"hi {name} , you are {age} years and elgible to vote\")\n",
    "else:\n",
    "    print(f\"hi {name} , you are {age} years and not eligble to vote\" )"
   ]
  },
  {
   "cell_type": "code",
   "execution_count": 20,
   "metadata": {},
   "outputs": [
    {
     "name": "stdout",
     "output_type": "stream",
     "text": [
      "plesae enter number45\n",
      "\n",
      " the number 45 is odd\n"
     ]
    }
   ],
   "source": [
    "## modulos operator\n",
    "\n",
    "num = int(input(\"plesae enter number\"))\n",
    "if num % 2 ==0:\n",
    "    print(f\"\\n the number {num} is even\")\n",
    "else:\n",
    "    print(f\"\\n the number {num} is odd\" )"
   ]
  },
  {
   "cell_type": "code",
   "execution_count": null,
   "metadata": {},
   "outputs": [],
   "source": []
  }
 ],
 "metadata": {
  "kernelspec": {
   "display_name": "Python 3",
   "language": "python",
   "name": "python3"
  },
  "language_info": {
   "codemirror_mode": {
    "name": "ipython",
    "version": 3
   },
   "file_extension": ".py",
   "mimetype": "text/x-python",
   "name": "python",
   "nbconvert_exporter": "python",
   "pygments_lexer": "ipython3",
   "version": "3.7.6"
  }
 },
 "nbformat": 4,
 "nbformat_minor": 4
}
